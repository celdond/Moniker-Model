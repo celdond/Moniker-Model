{
 "cells": [
  {
   "cell_type": "code",
   "execution_count": 198,
   "metadata": {},
   "outputs": [],
   "source": [
    "import pandas as pd\n",
    "import numpy as np\n",
    "import re"
   ]
  },
  {
   "cell_type": "code",
   "execution_count": 199,
   "metadata": {},
   "outputs": [],
   "source": [
    "data = pd.read_csv(\"data/goodreads_books.csv\", converters={'COLUMN_NAME': pd.eval})"
   ]
  },
  {
   "cell_type": "code",
   "execution_count": 200,
   "metadata": {},
   "outputs": [],
   "source": [
    "data = data.filter([\"title\", \"rating_count\", \"average_rating\", \"genre_and_votes\"], axis=1)"
   ]
  },
  {
   "cell_type": "code",
   "execution_count": 219,
   "metadata": {},
   "outputs": [],
   "source": [
    "def genre_break(genre):\n",
    "    for index, item in enumerate(genre):\n",
    "        new_item = re.sub('\\s[0-9]+', '', item)\n",
    "        genre[index] = new_item\n",
    "    \n",
    "    return genre"
   ]
  },
  {
   "cell_type": "code",
   "execution_count": 202,
   "metadata": {},
   "outputs": [],
   "source": [
    "data[\"genre\"] = data[\"genre_and_votes\"].str.split(\", \")\n",
    "data.drop(axis=1, columns=[\"genre_and_votes\"], inplace=True)"
   ]
  },
  {
   "cell_type": "code",
   "execution_count": 204,
   "metadata": {},
   "outputs": [],
   "source": [
    "data.dropna(inplace=True, axis=0)"
   ]
  },
  {
   "cell_type": "code",
   "execution_count": 205,
   "metadata": {},
   "outputs": [
    {
     "name": "stdout",
     "output_type": "stream",
     "text": [
      "<class 'pandas.core.frame.DataFrame'>\n",
      "Index: 49359 entries, 0 to 52198\n",
      "Data columns (total 4 columns):\n",
      " #   Column          Non-Null Count  Dtype  \n",
      "---  ------          --------------  -----  \n",
      " 0   title           49359 non-null  object \n",
      " 1   rating_count    49359 non-null  int64  \n",
      " 2   average_rating  49359 non-null  float64\n",
      " 3   genre           49359 non-null  object \n",
      "dtypes: float64(1), int64(1), object(2)\n",
      "memory usage: 1.9+ MB\n"
     ]
    }
   ],
   "source": [
    "data.info()"
   ]
  },
  {
   "cell_type": "code",
   "execution_count": 221,
   "metadata": {},
   "outputs": [
    {
     "data": {
      "text/plain": [
       "0                          [Young Adult, Mystery, Romance]\n",
       "1         [Christian Fiction, Christian, Fiction, Romance]\n",
       "2                  [Christian Fiction, Christian, Fiction]\n",
       "3                     [Thriller, Mystery, Horror, Fiction]\n",
       "4        [Economics-Finance, Nonfiction, Business, Fina...\n",
       "                               ...                        \n",
       "52194    [Romance-Historical Romance, Romance, Historic...\n",
       "52195    [Nonfiction, Short Stories, Writing-Essays, Au...\n",
       "52196    [Fiction, Childrens, Historical-Historical Fic...\n",
       "52197                      [Young Adult, Mystery, Romance]\n",
       "52198    [Biography, Nonfiction, Politics, Biography-Au...\n",
       "Name: genre, Length: 49359, dtype: object"
      ]
     },
     "execution_count": 221,
     "metadata": {},
     "output_type": "execute_result"
    }
   ],
   "source": [
    "data[\"genre\"].apply(lambda item: genre_break(item))"
   ]
  },
  {
   "cell_type": "code",
   "execution_count": 222,
   "metadata": {},
   "outputs": [
    {
     "data": {
      "text/html": [
       "<div>\n",
       "<style scoped>\n",
       "    .dataframe tbody tr th:only-of-type {\n",
       "        vertical-align: middle;\n",
       "    }\n",
       "\n",
       "    .dataframe tbody tr th {\n",
       "        vertical-align: top;\n",
       "    }\n",
       "\n",
       "    .dataframe thead th {\n",
       "        text-align: right;\n",
       "    }\n",
       "</style>\n",
       "<table border=\"1\" class=\"dataframe\">\n",
       "  <thead>\n",
       "    <tr style=\"text-align: right;\">\n",
       "      <th></th>\n",
       "      <th>title</th>\n",
       "      <th>rating_count</th>\n",
       "      <th>average_rating</th>\n",
       "      <th>genre</th>\n",
       "    </tr>\n",
       "  </thead>\n",
       "  <tbody>\n",
       "    <tr>\n",
       "      <th>0</th>\n",
       "      <td>Inner Circle</td>\n",
       "      <td>7597</td>\n",
       "      <td>4.03</td>\n",
       "      <td>[Young Adult, Mystery, Romance]</td>\n",
       "    </tr>\n",
       "    <tr>\n",
       "      <th>1</th>\n",
       "      <td>A Time to Embrace</td>\n",
       "      <td>4179</td>\n",
       "      <td>4.35</td>\n",
       "      <td>[Christian Fiction, Christian, Fiction, Romance]</td>\n",
       "    </tr>\n",
       "    <tr>\n",
       "      <th>2</th>\n",
       "      <td>Take Two</td>\n",
       "      <td>6288</td>\n",
       "      <td>4.23</td>\n",
       "      <td>[Christian Fiction, Christian, Fiction]</td>\n",
       "    </tr>\n",
       "    <tr>\n",
       "      <th>3</th>\n",
       "      <td>Reliquary</td>\n",
       "      <td>38382</td>\n",
       "      <td>4.01</td>\n",
       "      <td>[Thriller, Mystery, Horror, Fiction]</td>\n",
       "    </tr>\n",
       "    <tr>\n",
       "      <th>4</th>\n",
       "      <td>The Millionaire Next Door: The Surprising Secr...</td>\n",
       "      <td>72168</td>\n",
       "      <td>4.04</td>\n",
       "      <td>[Economics-Finance, Nonfiction, Business, Fina...</td>\n",
       "    </tr>\n",
       "    <tr>\n",
       "      <th>...</th>\n",
       "      <td>...</td>\n",
       "      <td>...</td>\n",
       "      <td>...</td>\n",
       "      <td>...</td>\n",
       "    </tr>\n",
       "    <tr>\n",
       "      <th>52194</th>\n",
       "      <td>The Stranger I Married</td>\n",
       "      <td>13295</td>\n",
       "      <td>3.87</td>\n",
       "      <td>[Romance-Historical Romance, Romance, Historic...</td>\n",
       "    </tr>\n",
       "    <tr>\n",
       "      <th>52195</th>\n",
       "      <td>The Opposite of Loneliness: Essays and Stories</td>\n",
       "      <td>42609</td>\n",
       "      <td>3.84</td>\n",
       "      <td>[Nonfiction, Short Stories, Writing-Essays, Au...</td>\n",
       "    </tr>\n",
       "    <tr>\n",
       "      <th>52196</th>\n",
       "      <td>Sadako will leben</td>\n",
       "      <td>1583</td>\n",
       "      <td>4.17</td>\n",
       "      <td>[Fiction, Childrens, Historical-Historical Fic...</td>\n",
       "    </tr>\n",
       "    <tr>\n",
       "      <th>52197</th>\n",
       "      <td>Confessions</td>\n",
       "      <td>8815</td>\n",
       "      <td>4.09</td>\n",
       "      <td>[Young Adult, Mystery, Romance]</td>\n",
       "    </tr>\n",
       "    <tr>\n",
       "      <th>52198</th>\n",
       "      <td>Going Rogue: An American Life</td>\n",
       "      <td>11359</td>\n",
       "      <td>3.28</td>\n",
       "      <td>[Biography, Nonfiction, Politics, Biography-Au...</td>\n",
       "    </tr>\n",
       "  </tbody>\n",
       "</table>\n",
       "<p>49359 rows × 4 columns</p>\n",
       "</div>"
      ],
      "text/plain": [
       "                                                   title  rating_count  \\\n",
       "0                                           Inner Circle          7597   \n",
       "1                                      A Time to Embrace          4179   \n",
       "2                                               Take Two          6288   \n",
       "3                                              Reliquary         38382   \n",
       "4      The Millionaire Next Door: The Surprising Secr...         72168   \n",
       "...                                                  ...           ...   \n",
       "52194                             The Stranger I Married         13295   \n",
       "52195     The Opposite of Loneliness: Essays and Stories         42609   \n",
       "52196                                  Sadako will leben          1583   \n",
       "52197                                        Confessions          8815   \n",
       "52198                      Going Rogue: An American Life         11359   \n",
       "\n",
       "       average_rating                                              genre  \n",
       "0                4.03                    [Young Adult, Mystery, Romance]  \n",
       "1                4.35   [Christian Fiction, Christian, Fiction, Romance]  \n",
       "2                4.23            [Christian Fiction, Christian, Fiction]  \n",
       "3                4.01               [Thriller, Mystery, Horror, Fiction]  \n",
       "4                4.04  [Economics-Finance, Nonfiction, Business, Fina...  \n",
       "...               ...                                                ...  \n",
       "52194            3.87  [Romance-Historical Romance, Romance, Historic...  \n",
       "52195            3.84  [Nonfiction, Short Stories, Writing-Essays, Au...  \n",
       "52196            4.17  [Fiction, Childrens, Historical-Historical Fic...  \n",
       "52197            4.09                    [Young Adult, Mystery, Romance]  \n",
       "52198            3.28  [Biography, Nonfiction, Politics, Biography-Au...  \n",
       "\n",
       "[49359 rows x 4 columns]"
      ]
     },
     "execution_count": 222,
     "metadata": {},
     "output_type": "execute_result"
    }
   ],
   "source": [
    "data"
   ]
  }
 ],
 "metadata": {
  "kernelspec": {
   "display_name": ".venv",
   "language": "python",
   "name": "python3"
  },
  "language_info": {
   "codemirror_mode": {
    "name": "ipython",
    "version": 3
   },
   "file_extension": ".py",
   "mimetype": "text/x-python",
   "name": "python",
   "nbconvert_exporter": "python",
   "pygments_lexer": "ipython3",
   "version": "3.11.0"
  },
  "orig_nbformat": 4
 },
 "nbformat": 4,
 "nbformat_minor": 2
}
